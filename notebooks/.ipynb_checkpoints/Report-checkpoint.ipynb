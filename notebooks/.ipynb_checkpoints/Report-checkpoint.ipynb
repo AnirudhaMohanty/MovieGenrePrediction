{
 "cells": [
  {
   "cell_type": "markdown",
   "metadata": {},
   "source": [
    "# Project description\n",
    "The current project aims to predict the genre of movie given the overview text that describes the movie. For example, the overview for *The Matrix* is as follows:\n",
    ">Set in the 22nd century, The Matrix tells the story of a computer hacker who joins a group of underground insurgents fighting the vast and powerful computers who now rule the earth.\n",
    "\n",
    "From the above text, we would like to predict that the movie belongs to the \"Action\" and \"Science Fiction\" genres.\n",
    "\n",
    "## Business object in context\n",
    "We are an internet-based movie distributing company, _NetFlux_. For new movies and original content movies, we want to make sure our staff writes overviews that will represent the correct genre of the movie. This will make our recommender system work better and ultimately provide more insight for our users to what movies they want to see.\n",
    "\n"
   ]
  },
  {
   "cell_type": "code",
   "execution_count": 141,
   "metadata": {},
   "outputs": [
    {
     "data": {
      "text/markdown": [
       "# Data\n",
       "Movie overviews and genres are scraped from TMDB. Our dataset was last refreshed at **2018-10-19 17:04:50**.\n",
       "\n",
       "The data have **1722** movie overviews.\n",
       "\n"
      ],
      "text/plain": [
       "<IPython.core.display.Markdown object>"
      ]
     },
     "metadata": {},
     "output_type": "display_data"
    }
   ],
   "source": [
    "from IPython.display import Markdown as md\n",
    "import os\n",
    "from datetime import datetime\n",
    "import pickle \n",
    "\n",
    "movies_with_overviews_path = '../data/processed/movies_with_overviews.pkl'\n",
    "date_refreshed_unix = os.path.getmtime(movies_with_overviews_path)\n",
    "date_refreshed = datetime.utcfromtimestamp(date_refreshed_unix).strftime('%Y-%m-%d %H:%M:%S')\n",
    "\n",
    "with open('../data/processed/movies_with_overviews.pkl','rb') as f:\n",
    "    movies_with_overviews=pickle.load(f)\n",
    "with open('../data/processed/Genredict.pkl','rb') as f:\n",
    "    Genre_ID_to_name=pickle.load(f)\n",
    "genre_list=sorted(list(Genre_ID_to_name.keys()))\n",
    "    \n",
    "num_movies = len(movies_with_overviews)\n",
    "\n",
    "display(md('''# Data\n",
    "Movie overviews and genres are scraped from TMDB. Our dataset was last refreshed at **{date_refreshed}**.\n",
    "\n",
    "The data have **{num_movies}** movie overviews.\n",
    "\n",
    "'''.format(date_refreshed=date_refreshed, num_movies=num_movies)))\n"
   ]
  },
  {
   "cell_type": "markdown",
   "metadata": {},
   "source": [
    "The distribution of the genres in these movies is shown in the chart below:"
   ]
  },
  {
   "cell_type": "code",
   "execution_count": 142,
   "metadata": {},
   "outputs": [
    {
     "data": {
      "image/png": "[encoded data removed]",
      "text/plain": [
       "<Figure size 432x288 with 1 Axes>"
      ]
     },
     "metadata": {},
     "output_type": "display_data"
    }
   ],
   "source": [
    "%matplotlib inline\n",
    "import pandas as pd\n",
    "from matplotlib import pyplot as plt\n",
    "from collections import Counter\n",
    "mwo = pd.DataFrame(movies_with_overviews)\n",
    "genre_ids_series = mwo['genre_ids']\n",
    "flat_genre_ids = [st for row in genre_ids_series for st in row]\n",
    "\n",
    "flat_genre_names = [Genre_ID_to_name[id] for id in flat_genre_ids] \n",
    "genre_counts = Counter(flat_genre_names)\n",
    "df = pd.DataFrame.from_dict(genre_counts, orient='index')\n",
    "ax = df.plot(kind='bar')\n",
    "ax.set_ylabel('Counts of each genre')\n",
    "ax.legend().set_visible(False)\n"
   ]
  },
  {
   "cell_type": "markdown",
   "metadata": {},
   "source": [
    "The top 10 movies in our dataset by popularity are listed below:"
   ]
  },
  {
   "cell_type": "code",
   "execution_count": 143,
   "metadata": {},
   "outputs": [
    {
     "name": "stdout",
     "output_type": "stream",
     "text": [
      "The Lord of the Rings: The Fellowship of the Ring\n",
      "The Shawshank Redemption\n",
      "The Lord of the Rings: The Return of the King\n",
      "Big Hero 6\n",
      "Teenage Mutant Ninja Turtles\n",
      "The Lord of the Rings: The Two Towers\n",
      "千と千尋の神隠し\n",
      "The Godfather\n",
      "Terminator 2: Judgment Day\n",
      "Twilight\n"
     ]
    }
   ],
   "source": [
    "a=[print(x) for x in mwo.sort_values(by='popularity', ascending=False)['original_title'].head(10)]"
   ]
  },
  {
   "cell_type": "markdown",
   "metadata": {},
   "source": [
    "# Models and Features\n",
    "\n",
    "We are currently using the following models to train against the dataset with the associated feature engineering:\n",
    "1. C-SVM\n",
    "    - The overviews are using a **bag of words** model and have been vectorized and transformed using **TF_IDF**.\n",
    "2. Naive Bayes\n",
    "    - The overviews are using a **bag of words** model and have been vectorized with a **Count Vectorizer**.\n",
    "3. Simple neural network (not deep)\n",
    "    - The overviews were tokenized with a **white space tokenizer**. Stop words were removed. Overviews were treated as **bag of words**, which each word being converted to a vector, using the GoogleNews-vectors-negative300.bin model.  The **arithmetic mean** of the words represented the overview. Taking the top 3 genres predicted for each movie.\n",
    "\n"
   ]
  },
  {
   "cell_type": "markdown",
   "metadata": {},
   "source": [
    "### C-SVM\n",
    "\n",
    "#### Metrics for each genre"
   ]
  },
  {
   "cell_type": "code",
   "execution_count": 144,
   "metadata": {},
   "outputs": [
    {
     "name": "stdout",
     "output_type": "stream",
     "text": [
      "                 precision    recall  f1-score   support\n",
      "\n",
      "         Action       0.38      0.41      0.40        70\n",
      "      Adventure       0.33      0.45      0.38        51\n",
      "      Animation       0.37      0.36      0.36        59\n",
      "         Comedy       0.62      0.65      0.63       142\n",
      "          Crime       0.32      0.58      0.42        38\n",
      "    Documentary       0.49      0.59      0.54        81\n",
      "          Drama       0.46      0.62      0.52       104\n",
      "         Family       0.00      0.00      0.00        36\n",
      "        Fantasy       0.50      0.17      0.25        18\n",
      "        History       0.36      0.59      0.45        74\n",
      "         Horror       0.34      0.51      0.41        41\n",
      "          Music       0.66      0.60      0.63        35\n",
      "        Mystery       0.36      0.29      0.32        45\n",
      "        Romance       0.38      0.40      0.39        45\n",
      "Science Fiction       0.70      0.57      0.63        28\n",
      "       TV Movie       0.58      0.65      0.61        46\n",
      "       Thriller       0.00      0.00      0.00        74\n",
      "            War       0.50      0.58      0.54        26\n",
      "        Western       0.15      0.14      0.15        21\n",
      "\n",
      "    avg / total       0.41      0.47      0.43      1034\n",
      "\n"
     ]
    },
    {
     "name": "stderr",
     "output_type": "stream",
     "text": [
      "/usr/local/anaconda/lib/python3.6/site-packages/sklearn/metrics/classification.py:1135: UndefinedMetricWarning: Precision and F-score are ill-defined and being set to 0.0 in labels with no predicted samples.\n",
      "  'precision', 'predicted', average, warn_for)\n"
     ]
    }
   ],
   "source": [
    "with open('../models/classifier_svc.pkl','rb') as f:\n",
    "    classif=pickle.load(f)\n",
    "with open('../data/processed/X_tfidf.pkl','rb') as f:\n",
    "    X=pickle.load(f)\n",
    "with open('../data/processed/Y.pkl','rb') as f:\n",
    "    Y=pickle.load(f)\n",
    "    \n",
    "from src.utils.eval_metrics import *\n",
    "from sklearn.model_selection import train_test_split\n",
    "from sklearn.metrics import classification_report\n",
    "import numpy as np\n",
    "\n",
    "indecies = range(len(movies_with_overviews))\n",
    "X_train, X_test, Y_train, Y_test, train_movies, test_movies = train_test_split(X, Y, indecies, test_size=0.20, random_state=42)\n",
    "genre_names=list(Genre_ID_to_name.values())\n",
    "predstfidf=classif.predict(X_test)\n",
    "print (classification_report(Y_test, predstfidf, target_names=genre_names))"
   ]
  },
  {
   "cell_type": "markdown",
   "metadata": {},
   "source": [
    "#### Precision and Recall for the overall model"
   ]
  },
  {
   "cell_type": "code",
   "execution_count": 145,
   "metadata": {},
   "outputs": [
    {
     "data": {
      "text/markdown": [
       "Precision: 0.45962732919254656\n",
       "\n",
       "Recall: 0.47806763285024156\n",
       "\n"
      ],
      "text/plain": [
       "<IPython.core.display.Markdown object>"
      ]
     },
     "execution_count": 145,
     "metadata": {},
     "output_type": "execute_result"
    }
   ],
   "source": [
    "predictions = generate_predictions(Genre_ID_to_name, X_test, predstfidf)\n",
    "precs, recs = precsc_recs(test_movies, movies_with_overviews, Genre_ID_to_name, predictions)\n",
    "\n",
    "prec_mean = np.mean(np.asarray(precs))\n",
    "rec_mean = np.mean(np.asarray(recs))\n",
    "\n",
    "md('''Precision: {prec_mean}\n",
    "\n",
    "Recall: {rec_mean}\n",
    "\n",
    "'''.format(prec_mean=prec_mean, rec_mean=rec_mean))"
   ]
  },
  {
   "cell_type": "markdown",
   "metadata": {},
   "source": [
    "#### Example predictions for a small sample"
   ]
  },
  {
   "cell_type": "code",
   "execution_count": 146,
   "metadata": {},
   "outputs": [
    {
     "name": "stdout",
     "output_type": "stream",
     "text": [
      "MOVIE:  The Three Burials of Melquiades Estrada \n",
      "PREDICTION:  Drama,Action,Thriller,Crime \n",
      "Actual:  Adventure,Drama,Western,Crime,Mystery \n",
      "\n",
      "MOVIE:  MouseHunt \n",
      "PREDICTION:  Comedy \n",
      "Actual:  Comedy,Family \n",
      "\n",
      "MOVIE:  The Untold History of the United States \n",
      "PREDICTION:  Animation,Documentary \n",
      "Actual:  History,Documentary \n",
      "\n",
      "MOVIE:  Halloweentown \n",
      "PREDICTION:  Adventure,Fantasy,Animation,Action \n",
      "Actual:  Adventure,Fantasy,Comedy,Family \n",
      "\n",
      "MOVIE:  City By The Sea \n",
      "PREDICTION:  Drama,Thriller,Crime,TV Movie \n",
      "Actual:  Drama,Crime,Mystery \n",
      "\n",
      "MOVIE:  Age of Uprising: The Legend of Michael Kohlhaas \n",
      "PREDICTION:  Adventure,Action \n",
      "Actual:  Drama,History \n",
      "\n"
     ]
    }
   ],
   "source": [
    "predictions=[]\n",
    "actuals = []\n",
    "for i in range(X_test.shape[0]):\n",
    "    pred_genres=[]\n",
    "    actual_genres=[]\n",
    "    movie_label_scores=predstfidf[i]\n",
    "    actual_scores = Y_test[i]\n",
    "#     print movie_label_scores\n",
    "    for j in range(len(movie_label_scores)):\n",
    "        #print j\n",
    "        if movie_label_scores[j]!=0:\n",
    "            genre=Genre_ID_to_name[genre_list[j]]\n",
    "            pred_genres.append(genre)\n",
    "        if actual_scores[j]!=0:\n",
    "            genre=Genre_ID_to_name[genre_list[j]]\n",
    "            actual_genres.append(genre)\n",
    "    predictions.append(pred_genres)\n",
    "    actuals.append(actual_genres)\n",
    "for i in range(X_test.shape[0]):\n",
    "    if i%50==0 and i!=0:\n",
    "        print ('MOVIE: ',movies_with_overviews[test_movies[i]]['title'],\n",
    "               '\\nPREDICTION: ',','.join(predictions[i]), \n",
    "               '\\nActual: ', ','.join(actuals[i]), '\\n')"
   ]
  },
  {
   "cell_type": "markdown",
   "metadata": {},
   "source": [
    "### Naive Bayes\n",
    "\n",
    "#### Metrics for each genre"
   ]
  },
  {
   "cell_type": "code",
   "execution_count": 163,
   "metadata": {},
   "outputs": [
    {
     "name": "stdout",
     "output_type": "stream",
     "text": [
      "                 precision    recall  f1-score   support\n",
      "\n",
      "         Action       0.46      0.40      0.43        70\n",
      "      Adventure       0.47      0.39      0.43        51\n",
      "      Animation       0.42      0.27      0.33        59\n",
      "         Comedy       0.67      0.68      0.67       142\n",
      "          Crime       0.42      0.50      0.46        38\n",
      "    Documentary       0.57      0.60      0.59        81\n",
      "          Drama       0.57      0.52      0.54       104\n",
      "         Family       0.43      0.44      0.44        36\n",
      "        Fantasy       0.00      0.00      0.00        18\n",
      "        History       0.44      0.49      0.46        74\n",
      "         Horror       0.55      0.59      0.56        41\n",
      "          Music       0.57      0.71      0.63        35\n",
      "        Mystery       0.45      0.40      0.42        45\n",
      "        Romance       0.44      0.36      0.40        45\n",
      "Science Fiction       0.61      0.61      0.61        28\n",
      "       TV Movie       0.50      0.67      0.57        46\n",
      "       Thriller       0.55      0.49      0.52        74\n",
      "            War       0.46      0.50      0.48        26\n",
      "        Western       0.18      0.14      0.16        21\n",
      "\n",
      "    avg / total       0.51      0.50      0.50      1034\n",
      "\n"
     ]
    }
   ],
   "source": [
    "with open('../models/classifier_nb.pkl','rb') as f:\n",
    "    classif=pickle.load(f)\n",
    "with open('../data/processed/X.pkl','rb') as f:\n",
    "    X=pickle.load(f)\n",
    "with open('../data/processed/Y.pkl','rb') as f:\n",
    "    Y=pickle.load(f)\n",
    "    \n",
    "from src.utils.eval_metrics import *\n",
    "from sklearn.model_selection import train_test_split\n",
    "from sklearn.metrics import classification_report\n",
    "import numpy as np\n",
    "\n",
    "indecies = range(len(movies_with_overviews))\n",
    "X_train, X_test, Y_train, Y_test, train_movies, test_movies = train_test_split(X, Y, indecies, test_size=0.20, random_state=42)\n",
    "genre_names=list(Genre_ID_to_name.values())\n",
    "preds=classif.predict(X_test)\n",
    "print (classification_report(Y_test, preds, target_names=genre_names))"
   ]
  },
  {
   "cell_type": "markdown",
   "metadata": {},
   "source": [
    "#### Precision and Recall for the overall model"
   ]
  },
  {
   "cell_type": "code",
   "execution_count": 164,
   "metadata": {},
   "outputs": [
    {
     "data": {
      "text/markdown": [
       "Precision: 0.5102357948010122\n",
       "\n",
       "Recall: 0.5255072463768117\n",
       "\n"
      ],
      "text/plain": [
       "<IPython.core.display.Markdown object>"
      ]
     },
     "execution_count": 164,
     "metadata": {},
     "output_type": "execute_result"
    }
   ],
   "source": [
    "predictions = generate_predictions(Genre_ID_to_name, X_test, preds)\n",
    "precs, recs = precsc_recs(test_movies, movies_with_overviews, Genre_ID_to_name, predictions)\n",
    "\n",
    "prec_mean = np.mean(np.asarray(precs))\n",
    "rec_mean = np.mean(np.asarray(recs))\n",
    "\n",
    "md('''Precision: {prec_mean}\n",
    "\n",
    "Recall: {rec_mean}\n",
    "\n",
    "'''.format(prec_mean=prec_mean, rec_mean=rec_mean))"
   ]
  },
  {
   "cell_type": "markdown",
   "metadata": {},
   "source": [
    "#### Example predictions for a small sample"
   ]
  },
  {
   "cell_type": "code",
   "execution_count": 165,
   "metadata": {},
   "outputs": [
    {
     "name": "stdout",
     "output_type": "stream",
     "text": [
      "MOVIE:  The Three Burials of Melquiades Estrada \n",
      "PREDICTION:  Drama,Action,Thriller,Crime \n",
      "Actual:  Adventure,Drama,Western,Crime,Mystery \n",
      "\n",
      "MOVIE:  MouseHunt \n",
      "PREDICTION:  Comedy,Romance,Family \n",
      "Actual:  Comedy,Family \n",
      "\n",
      "MOVIE:  The Untold History of the United States \n",
      "PREDICTION:  History,Documentary \n",
      "Actual:  History,Documentary \n",
      "\n",
      "MOVIE:  Halloweentown \n",
      "PREDICTION:  Adventure,Fantasy,Animation,Family \n",
      "Actual:  Adventure,Fantasy,Comedy,Family \n",
      "\n",
      "MOVIE:  City By The Sea \n",
      "PREDICTION:  Drama,Crime \n",
      "Actual:  Drama,Crime,Mystery \n",
      "\n",
      "MOVIE:  Age of Uprising: The Legend of Michael Kohlhaas \n",
      "PREDICTION:  Adventure,Drama,Action \n",
      "Actual:  Drama,History \n",
      "\n"
     ]
    }
   ],
   "source": [
    "predictions=[]\n",
    "actuals = []\n",
    "for i in range(X_test.shape[0]):\n",
    "    pred_genres=[]\n",
    "    actual_genres=[]\n",
    "    movie_label_scores=preds[i]\n",
    "    actual_scores = Y_test[i]\n",
    "#     print movie_label_scores\n",
    "    for j in range(len(movie_label_scores)):\n",
    "        #print j\n",
    "        if movie_label_scores[j]!=0:\n",
    "            genre=Genre_ID_to_name[genre_list[j]]\n",
    "            pred_genres.append(genre)\n",
    "        if actual_scores[j]!=0:\n",
    "            genre=Genre_ID_to_name[genre_list[j]]\n",
    "            actual_genres.append(genre)\n",
    "    predictions.append(pred_genres)\n",
    "    actuals.append(actual_genres)\n",
    "for i in range(X_test.shape[0]):\n",
    "    if i%50==0 and i!=0:\n",
    "        print ('MOVIE: ',movies_with_overviews[test_movies[i]]['title'],\n",
    "               '\\nPREDICTION: ',','.join(predictions[i]), \n",
    "               '\\nActual: ', ','.join(actuals[i]), '\\n')"
   ]
  },
  {
   "cell_type": "code",
   "execution_count": 166,
   "metadata": {},
   "outputs": [
    {
     "name": "stdout",
     "output_type": "stream",
     "text": [
      "{'vote_count': 454, 'id': 6283, 'video': False, 'vote_average': 6.3, 'title': 'MouseHunt', 'popularity': 9.145, 'poster_path': '/gQ3Nyb3UkRHyuiN96MNmKmREc6F.jpg', 'original_language': 'en', 'original_title': 'MouseHunt', 'genre_ids': [35, 10751], 'backdrop_path': '/8NPT9q8UurQ7MIUjMeaZxaDa7WE.jpg', 'adult': False, 'overview': \"Down-on-their luck brothers, Lars and Ernie Smuntz, aren't happy with the crumbling old mansion they inherit... until they discover the estate is worth millions. Before they can cash in, they have to rid the house of it's single, stubborn occupant: a tiny and tenacious mouse.\", 'release_date': '1997-12-19'}\n",
      "Comedy\n",
      "Family\n"
     ]
    },
    {
     "data": {
      "text/plain": [
       "array([[0, 0, 0, 0, 0, 0, 1, 0, 0, 0, 0, 0, 0, 0, 0, 1, 1, 0, 0]])"
      ]
     },
     "execution_count": 166,
     "metadata": {},
     "output_type": "execute_result"
    }
   ],
   "source": [
    "print(movies_with_overviews[test_movies[100]])\n",
    "print(Genre_ID_to_name[35])\n",
    "print(Genre_ID_to_name[10751])\n",
    "test_movies[100]\n",
    "classif.predict(X_test[100])"
   ]
  },
  {
   "cell_type": "markdown",
   "metadata": {},
   "source": [
    "### Simple Neural Network with Word2Vec features\n",
    "\n",
    "#### Metrics for each genre"
   ]
  },
  {
   "cell_type": "code",
   "execution_count": 151,
   "metadata": {},
   "outputs": [
    {
     "name": "stdout",
     "output_type": "stream",
     "text": [
      "                 precision    recall  f1-score   support\n",
      "\n",
      "         Action       0.49      0.43      0.46        70\n",
      "      Adventure       0.43      0.45      0.44        51\n",
      "      Animation       0.51      0.36      0.42        59\n",
      "         Comedy       0.56      0.75      0.64       142\n",
      "          Crime       0.38      0.39      0.38        38\n",
      "    Documentary       0.52      0.49      0.51        81\n",
      "          Drama       0.53      0.59      0.56       104\n",
      "         Family       0.43      0.33      0.38        36\n",
      "        Fantasy       0.91      0.56      0.69        18\n",
      "        History       0.44      0.47      0.46        74\n",
      "         Horror       0.50      0.46      0.48        41\n",
      "          Music       0.74      0.80      0.77        35\n",
      "        Mystery       0.56      0.40      0.47        45\n",
      "        Romance       0.45      0.29      0.35        45\n",
      "Science Fiction       0.55      0.61      0.58        28\n",
      "       TV Movie       0.38      0.37      0.37        46\n",
      "       Thriller       0.63      0.68      0.65        74\n",
      "            War       0.74      0.54      0.62        26\n",
      "        Western       0.18      0.24      0.20        21\n",
      "\n",
      "    avg / total       0.52      0.52      0.51      1034\n",
      "\n"
     ]
    }
   ],
   "source": [
    "from keras.models import load_model\n",
    "from sklearn.preprocessing import MultiLabelBinarizer\n",
    "with open('../data/processed/textual_features.pkl','rb') as f:\n",
    "    (X,Y)=pickle.load(f)\n",
    "model_textual = load_model('../models/overview_nn.h5')\n",
    "\n",
    "indecies = range(len(movies_with_overviews))\n",
    "X_train, X_test, Y_train, Y_test, train_movies, test_movies = train_test_split(X, Y, indecies, test_size=0.20, random_state=42)\n",
    "genre_names=list(Genre_ID_to_name.values())\n",
    "Y_preds=model_textual.predict(X_test)\n",
    "\n",
    "Y_preds_binary = []\n",
    "for row in Y_preds:\n",
    "    predicted = np.argsort(row)[::-1][:3]\n",
    "    predicted_genre_Y = [1 if k in predicted else 0 for k in range(len(row)) ]\n",
    "    Y_preds_binary.append(predicted_genre_Y)\n",
    "\n",
    "print (classification_report(Y_test, np.array(Y_preds_binary), target_names=genre_names))"
   ]
  },
  {
   "cell_type": "markdown",
   "metadata": {},
   "source": [
    "#### Precision and Recall for the overall model"
   ]
  },
  {
   "cell_type": "code",
   "execution_count": 152,
   "metadata": {},
   "outputs": [
    {
     "data": {
      "text/markdown": [
       "Precision: 0.5169082125603865\n",
       "\n",
       "Recall: 0.5496135265700484\n",
       "\n"
      ],
      "text/plain": [
       "<IPython.core.display.Markdown object>"
      ]
     },
     "execution_count": 152,
     "metadata": {},
     "output_type": "execute_result"
    }
   ],
   "source": [
    "predictions = generate_predictions(Genre_ID_to_name, X_test, Y_preds_binary)\n",
    "precs, recs = precsc_recs(test_movies, movies_with_overviews, Genre_ID_to_name, predictions)\n",
    "\n",
    "prec_mean = np.mean(np.asarray(precs))\n",
    "rec_mean = np.mean(np.asarray(recs))\n",
    "\n",
    "md('''Precision: {prec_mean}\n",
    "\n",
    "Recall: {rec_mean}\n",
    "\n",
    "'''.format(prec_mean=prec_mean, rec_mean=rec_mean))"
   ]
  },
  {
   "cell_type": "markdown",
   "metadata": {},
   "source": [
    "#### Example predictions for a small sample"
   ]
  },
  {
   "cell_type": "code",
   "execution_count": 153,
   "metadata": {},
   "outputs": [
    {
     "name": "stdout",
     "output_type": "stream",
     "text": [
      "MOVIE:  The Three Burials of Melquiades Estrada \n",
      "PREDICTION:  Action,Western,Thriller \n",
      "Actual:  Adventure,Drama,Western,Crime,Mystery \n",
      "\n",
      "MOVIE:  MouseHunt \n",
      "PREDICTION:  Fantasy,Comedy,Family \n",
      "Actual:  Comedy,Family \n",
      "\n",
      "MOVIE:  The Untold History of the United States \n",
      "PREDICTION:  Drama,History,Documentary \n",
      "Actual:  History,Documentary \n",
      "\n",
      "MOVIE:  Halloweentown \n",
      "PREDICTION:  Fantasy,Horror,Family \n",
      "Actual:  Adventure,Fantasy,Comedy,Family \n",
      "\n",
      "MOVIE:  City By The Sea \n",
      "PREDICTION:  Drama,Crime,TV Movie \n",
      "Actual:  Drama,Crime,Mystery \n",
      "\n",
      "MOVIE:  Age of Uprising: The Legend of Michael Kohlhaas \n",
      "PREDICTION:  Adventure,Drama,Action \n",
      "Actual:  Drama,History \n",
      "\n"
     ]
    }
   ],
   "source": [
    "for i in range(X_test.shape[0]):\n",
    "    if i%50==0 and i!=0:\n",
    "        print ('MOVIE: ',movies_with_overviews[test_movies[i]]['title'],\n",
    "               '\\nPREDICTION: ',','.join(predictions[i]), \n",
    "               '\\nActual: ', ','.join(actuals[i]), '\\n')"
   ]
  },
  {
   "cell_type": "code",
   "execution_count": 154,
   "metadata": {},
   "outputs": [
    {
     "data": {
      "text/html": [
       "<style>\n",
       "    @font-face {\n",
       "        font-family: \"Computer Modern\";\n",
       "        src: url('http://9dbb143991406a7c655e-aa5fcb0a5a4ec34cff238a2d56ca4144.r56.cf5.rackcdn.com/cmunss.otf');\n",
       "    }\n",
       "    @font-face {\n",
       "        font-family: \"Computer Modern\";\n",
       "        font-weight: bold;\n",
       "        src: url('http://9dbb143991406a7c655e-aa5fcb0a5a4ec34cff238a2d56ca4144.r56.cf5.rackcdn.com/cmunsx.otf');\n",
       "    }\n",
       "    @font-face {\n",
       "        font-family: \"Computer Modern\";\n",
       "        font-style: oblique;\n",
       "        src: url('http://9dbb143991406a7c655e-aa5fcb0a5a4ec34cff238a2d56ca4144.r56.cf5.rackcdn.com/cmunsi.otf');\n",
       "    }\n",
       "    @font-face {\n",
       "        font-family: \"Computer Modern\";\n",
       "        font-weight: bold;\n",
       "        font-style: oblique;\n",
       "        src: url('http://9dbb143991406a7c655e-aa5fcb0a5a4ec34cff238a2d56ca4144.r56.cf5.rackcdn.com/cmunso.otf');\n",
       "    }\n",
       "    div.cell{\n",
       "        width:800px;\n",
       "        margin-left:16% !important;\n",
       "        margin-right:auto;\n",
       "    }\n",
       "    h1 {\n",
       "        font-family: Helvetica, serif;\n",
       "    }\n",
       "    h4{\n",
       "        margin-top:12px;\n",
       "        margin-bottom: 3px;\n",
       "       }\n",
       "    div.text_cell_render{\n",
       "        font-family: Computer Modern, \"Helvetica Neue\", Arial, Helvetica, Geneva, sans-serif;\n",
       "        line-height: 145%;\n",
       "        font-size: 130%;\n",
       "        width:800px;\n",
       "        margin-left:auto;\n",
       "        margin-right:auto;\n",
       "    }\n",
       "    .CodeMirror{\n",
       "            font-family: \"Source Code Pro\", source-code-pro,Consolas, monospace;\n",
       "    }\n",
       "    .prompt{\n",
       "        display: None;\n",
       "    }\n",
       "    .text_cell_render h5 {\n",
       "        font-weight: 300;\n",
       "        font-size: 22pt;\n",
       "        color: #4057A1;\n",
       "        font-style: italic;\n",
       "        margin-bottom: .5em;\n",
       "        margin-top: 0.5em;\n",
       "        display: block;\n",
       "    }\n",
       "    \n",
       "    .warning{\n",
       "        color: rgb( 240, 20, 20 )\n",
       "        }  \n",
       "</style>\n",
       "<script>\n",
       "    MathJax.Hub.Config({\n",
       "                        TeX: {\n",
       "                           extensions: [\"AMSmath.js\"]\n",
       "                           },\n",
       "                tex2jax: {\n",
       "                    inlineMath: [ ['$','$'], [\"\\\\(\",\"\\\\)\"] ],\n",
       "                    displayMath: [ ['$$','$$'], [\"\\\\[\",\"\\\\]\"] ]\n",
       "                },\n",
       "                displayAlign: 'center', // Change this to 'center' to center equations.\n",
       "                \"HTML-CSS\": {\n",
       "                    styles: {'.MathJax_Display': {\"margin\": 4}}\n",
       "                }\n",
       "        });\n",
       "</script>"
      ],
      "text/plain": [
       "<IPython.core.display.HTML object>"
      ]
     },
     "execution_count": 154,
     "metadata": {},
     "output_type": "execute_result"
    }
   ],
   "source": [
    "from IPython.core.display import HTML\n",
    "\n",
    "\n",
    "def css_styling():\n",
    "    styles = open(\"../notebooks/static/custom.css\", \"r\").read()\n",
    "    return HTML(styles)\n",
    "css_styling()"
   ]
  }
 ],
 "metadata": {
  "kernelspec": {
   "display_name": "Python 3",
   "language": "python",
   "name": "python3"
  },
  "language_info": {
   "codemirror_mode": {
    "name": "ipython",
    "version": 3
   },
   "file_extension": ".py",
   "mimetype": "text/x-python",
   "name": "python",
   "nbconvert_exporter": "python",
   "pygments_lexer": "ipython3",
   "version": "3.6.6"
  }
 },
 "nbformat": 4,
 "nbformat_minor": 2
}
